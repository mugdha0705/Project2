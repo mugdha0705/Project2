{
 "cells": [
  {
   "cell_type": "code",
   "execution_count": null,
   "metadata": {},
   "outputs": [],
   "source": [
    "import json\n",
    "import numpy as np\n",
    "import csv\n",
    "import requests\n",
    "import pandas as pd\n",
    "from config import api_key\n",
    "from sqlalchemy import create_engine\n",
    "import pymysql\n",
    "pymysql.install_as_MySQLdb()"
   ]
  },
  {
   "cell_type": "code",
   "execution_count": null,
   "metadata": {},
   "outputs": [],
   "source": [
    "defaultdatafinal= \"defaultdatafinal.csv\"\n",
    "default_data_file = pd.read_csv(defaultdatafinal)\n",
    "default_data_file.head()\n",
    "\n",
    "default_data_final= default_data_file.drop(\"Unnamed: 0\" , axis=1)\n",
    "default_data_file.head()"
   ]
  },
  {
   "cell_type": "code",
   "execution_count": null,
   "metadata": {},
   "outputs": [],
   "source": [
    "dl_by_school_type= \"dl_by_school_type.csv\"\n",
    "dl_school_type_file = pd.read_csv(dl_by_school_type)\n",
    "dl_school_type_file.head()\n",
    "dl_school_rename = dl_school_type_file.rename(columns={\"Institution Type\":\"Insti_type\",\"Date\":\"date\",\"QTR\": \"QTR\",\"dollar_outstanding\":\"dollar_outstanding\",\"receipient\":\"receipient\"})\n",
    "dl_school_rename.head()\n",
    "# dl_school_type_final= dl_school_type_file.drop(\"Unnamed: 0\" , axis=1)"
   ]
  },
  {
   "cell_type": "code",
   "execution_count": null,
   "metadata": {},
   "outputs": [],
   "source": [
    "rds_connection_string = \"root:Pimn@2001@127.0.0.1/school_uni_db\"\n",
    "engine = create_engine(f'mysql://{rds_connection_string}')"
   ]
  },
  {
   "cell_type": "code",
   "execution_count": null,
   "metadata": {},
   "outputs": [],
   "source": [
    "default_data_final.to_sql(\"default_data_final\", con = engine, schema=None, if_exists='replace', index=False)"
   ]
  },
  {
   "cell_type": "code",
   "execution_count": null,
   "metadata": {},
   "outputs": [],
   "source": [
    "dl_school_rename.to_sql(\"dl_school_rename\", con = engine, schema=None, if_exists='replace', index=False)"
   ]
  },
  {
   "cell_type": "code",
   "execution_count": null,
   "metadata": {},
   "outputs": [],
   "source": []
  }
 ],
 "metadata": {
  "kernelspec": {
   "display_name": "Python 3",
   "language": "python",
   "name": "python3"
  },
  "language_info": {
   "codemirror_mode": {
    "name": "ipython",
    "version": 3
   },
   "file_extension": ".py",
   "mimetype": "text/x-python",
   "name": "python",
   "nbconvert_exporter": "python",
   "pygments_lexer": "ipython3",
   "version": "3.6.5"
  }
 },
 "nbformat": 4,
 "nbformat_minor": 2
}
