{
 "cells": [
  {
   "cell_type": "code",
   "execution_count": 1,
   "metadata": {},
   "outputs": [],
   "source": [
    "import json\n",
    "import numpy as np\n",
    "import csv\n",
    "import requests\n",
    "import pandas as pd\n",
    "from config import api_key\n",
    "from sqlalchemy import create_engine\n",
    "import pymysql\n",
    "pymysql.install_as_MySQLdb()"
   ]
  },
  {
   "cell_type": "code",
   "execution_count": null,
   "metadata": {},
   "outputs": [],
   "source": [
    "defaultdatafinal= \"defaultdatafinal.csv\"\n",
    "default_data_file = pd.read_csv(defaultdatafinal)\n",
    "default_data_file.head()\n",
    "\n",
    "default_data_final= default_data_file.drop(\"Unnamed: 0\" , axis=1)\n",
    "default_data_file.head()"
   ]
  },
  {
   "cell_type": "code",
   "execution_count": 2,
   "metadata": {},
   "outputs": [
    {
     "data": {
      "text/html": [
       "<div>\n",
       "<style scoped>\n",
       "    .dataframe tbody tr th:only-of-type {\n",
       "        vertical-align: middle;\n",
       "    }\n",
       "\n",
       "    .dataframe tbody tr th {\n",
       "        vertical-align: top;\n",
       "    }\n",
       "\n",
       "    .dataframe thead th {\n",
       "        text-align: right;\n",
       "    }\n",
       "</style>\n",
       "<table border=\"1\" class=\"dataframe\">\n",
       "  <thead>\n",
       "    <tr style=\"text-align: right;\">\n",
       "      <th></th>\n",
       "      <th>Insti_type</th>\n",
       "      <th>date</th>\n",
       "      <th>QTR</th>\n",
       "      <th>dollar_outstanding</th>\n",
       "      <th>receipient</th>\n",
       "    </tr>\n",
       "  </thead>\n",
       "  <tbody>\n",
       "    <tr>\n",
       "      <th>0</th>\n",
       "      <td>Public</td>\n",
       "      <td>2017</td>\n",
       "      <td>Q4</td>\n",
       "      <td>$464.2</td>\n",
       "      <td>19.4</td>\n",
       "    </tr>\n",
       "    <tr>\n",
       "      <th>1</th>\n",
       "      <td>Public</td>\n",
       "      <td>2018</td>\n",
       "      <td>Q1</td>\n",
       "      <td>$467.6</td>\n",
       "      <td>19.6</td>\n",
       "    </tr>\n",
       "    <tr>\n",
       "      <th>2</th>\n",
       "      <td>Public</td>\n",
       "      <td>2018</td>\n",
       "      <td>Q2</td>\n",
       "      <td>$484.4</td>\n",
       "      <td>19.7</td>\n",
       "    </tr>\n",
       "    <tr>\n",
       "      <th>3</th>\n",
       "      <td>Public</td>\n",
       "      <td>2018</td>\n",
       "      <td>Q3</td>\n",
       "      <td>$486.1</td>\n",
       "      <td>19.6</td>\n",
       "    </tr>\n",
       "    <tr>\n",
       "      <th>4</th>\n",
       "      <td>Public</td>\n",
       "      <td>2018</td>\n",
       "      <td>Q4</td>\n",
       "      <td>$508.4</td>\n",
       "      <td>20.4</td>\n",
       "    </tr>\n",
       "  </tbody>\n",
       "</table>\n",
       "</div>"
      ],
      "text/plain": [
       "  Insti_type  date QTR dollar_outstanding  receipient\n",
       "0     Public  2017  Q4            $464.2         19.4\n",
       "1     Public  2018  Q1            $467.6         19.6\n",
       "2     Public  2018  Q2            $484.4         19.7\n",
       "3     Public  2018  Q3            $486.1         19.6\n",
       "4     Public  2018  Q4            $508.4         20.4"
      ]
     },
     "execution_count": 2,
     "metadata": {},
     "output_type": "execute_result"
    }
   ],
   "source": [
    "dl_by_school_type= \"dl_by_school_type.csv\"\n",
    "dl_school_type_file = pd.read_csv(dl_by_school_type)\n",
    "dl_school_type_file.head()\n",
    "dl_school_rename = dl_school_type_file.rename(columns={\"Institution Type\":\"Insti_type\",\"Date\":\"date\",\"QTR\": \"QTR\",\"dollar_outstanding\":\"dollar_outstanding\",\"receipient\":\"receipient\"})\n",
    "dl_school_rename.head()\n",
    "# dl_school_type_final= dl_school_type_file.drop(\"Unnamed: 0\" , axis=1)"
   ]
  },
  {
   "cell_type": "code",
   "execution_count": 3,
   "metadata": {},
   "outputs": [],
   "source": [
    "rds_connection_string = \"root:Pimn@2001@127.0.0.1/school_uni_db\"\n",
    "engine = create_engine(f'mysql://{rds_connection_string}')"
   ]
  },
  {
   "cell_type": "code",
   "execution_count": null,
   "metadata": {},
   "outputs": [],
   "source": [
    "default_data_final.to_sql(\"default_data_final\", con = engine, schema=None, if_exists='replace', index=False)"
   ]
  },
  {
   "cell_type": "code",
   "execution_count": 4,
   "metadata": {},
   "outputs": [],
   "source": [
    "dl_school_rename.to_sql(\"dl_school_rename\", con = engine, schema=None, if_exists='replace', index=False)"
   ]
  },
  {
   "cell_type": "code",
   "execution_count": null,
   "metadata": {},
   "outputs": [],
   "source": []
  }
 ],
 "metadata": {
  "kernelspec": {
   "display_name": "Python 3",
   "language": "python",
   "name": "python3"
  },
  "language_info": {
   "codemirror_mode": {
    "name": "ipython",
    "version": 3
   },
   "file_extension": ".py",
   "mimetype": "text/x-python",
   "name": "python",
   "nbconvert_exporter": "python",
   "pygments_lexer": "ipython3",
   "version": "3.6.5"
  }
 },
 "nbformat": 4,
 "nbformat_minor": 2
}
